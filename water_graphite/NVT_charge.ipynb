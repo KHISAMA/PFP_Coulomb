{
 "cells": [
  {
   "cell_type": "code",
   "execution_count": 1,
   "id": "ab38c8e0-ad65-43b2-b652-d712cecd4470",
   "metadata": {},
   "outputs": [
    {
     "name": "stdout",
     "output_type": "stream",
     "text": [
      "pfp_api_client: 1.15.0\n",
      "Estimator model version: v2.0.0\n",
      "available versions:  ['latest', 'v0.0.0', 'v1.0.0', 'v1.1.0', 'v2.0.0', 'v3.0.0', 'v4.0.0', 'v5.0.0', 'v6.0.0']\n"
     ]
    }
   ],
   "source": [
    "%load_ext autoreload\n",
    "%autoreload 2\n",
    "import ase\n",
    "from ase.visualize import view\n",
    "from ase.build import molecule\n",
    "from ase.io import Trajectory, write, read\n",
    "from ase.units import mol # Avogadro Constant\n",
    "# calculator\n",
    "import pfp_api_client\n",
    "from pfp_api_client.pfp.calculators.ase_calculator import ASECalculator\n",
    "from pfp_api_client.pfp.estimator import Estimator, EstimatorCalcMode\n",
    "# Molecular Dynamics\n",
    "from ase.md.velocitydistribution import MaxwellBoltzmannDistribution, Stationary\n",
    "from ase.units import kB, fs, Pascal\n",
    "\n",
    "import numpy as np\n",
    "\n",
    "def vis(atoms):\n",
    "    v = view(atoms, viewer='ngl')\n",
    "    v.view.add_representation(\"ball+stick\")\n",
    "    display(v)\n",
    "\n",
    "#estimator = Estimator(calc_mode='CRYSTAL_PLUS_D3')\n",
    "estimator = Estimator(model_version=\"v2.0.0\", max_retries=30,  calc_mode=EstimatorCalcMode.CRYSTAL_PLUS_D3)\n",
    "calculator = ASECalculator(estimator)\n",
    "\n",
    "from ase.constraints import FixAtoms\n",
    "\n",
    "print(f\"pfp_api_client: {pfp_api_client.__version__}\")\n",
    "print(f\"Estimator model version: {estimator.model_version}\")\n",
    "print(\"available versions: \", estimator.available_models)"
   ]
  },
  {
   "cell_type": "code",
   "execution_count": 2,
   "id": "06227629-85e0-4d12-be25-2a32d7122bb7",
   "metadata": {},
   "outputs": [],
   "source": [
    "import os\n",
    "import sys\n",
    "sys.path.append(os.path.join('..'))\n",
    "\n",
    "from lammpslib3 import LAMMPSlib\n",
    "#from ase.calculators.mixing import SumCalculator\n",
    "from mixing_mod import SumCalculator\n",
    "\n",
    "# Example of hybrid/overlay\n",
    "\n",
    "cmds = [\"pair_style hybrid/overlay lj/cut 12.0 lj/cut/coul/long 12.0 12.0 airebo 3.0\",\n",
    "        \"pair_coeff * * airebo CH.airebo C NULL NULL\",\n",
    "        \"pair_coeff * * lj/cut 0 0.1\",\n",
    "        \"pair_coeff 1 3 lj/cut 0.0032 3.190\",\n",
    "        \"pair_coeff * * lj/cut/coul/long 0 0.1\",\n",
    "        \"kspace_style ewald 1.0e-4\",]\n",
    "\n",
    "# Long range for water\n",
    "cmdLR = [\"pair_style hybrid/overlay lj/cut 12.0 lj/cut/coul/long 20.0 20.0\",\n",
    "         \"pair_coeff * * lj/cut 0 0\",\n",
    "         \"pair_coeff 1 1 lj/cut/coul/long 0 0\",\n",
    "         \"kspace_style ewald 1.0e-4\",]\n",
    "\n",
    "lammpsLR = LAMMPSlib(lmpcmds=cmdLR,lammps_header=['units metal', 'atom_style charge', 'atom_modify map array sort 0 0',],\n",
    "                   atom_types={'C':1, 'H':2, 'O':3}, keep_alive=True)\n",
    "\n",
    "lammps1 = LAMMPSlib(lmpcmds=cmds,lammps_header=['units metal', 'atom_style charge', 'atom_modify map array sort 0 0'],\n",
    "                   atom_types={'C':1, 'H':2, 'O':3}, keep_alive=True)\n",
    "lammps2 = LAMMPSlib(lmpcmds=cmds,lammps_header=['units metal', 'atom_style charge', 'atom_modify map array sort 0 0'],\n",
    "                   atom_types={'C':1, 'H':2, 'O':3}, keep_alive=True)\n"
   ]
  },
  {
   "cell_type": "code",
   "execution_count": 3,
   "id": "dcf3a4ac-9177-4841-95a7-4471c7070adf",
   "metadata": {},
   "outputs": [
    {
     "name": "stdout",
     "output_type": "stream",
     "text": [
      "-5747.135779319401\n"
     ]
    }
   ],
   "source": [
    "from simpleQMMM_lammps_charge import SimpleQMMM_charge\n",
    "\n",
    "atoms = read(\"NVT_charge_init.traj\")\n",
    "CHARGE_VALUE=0.01\n",
    "#CHARGE_VALUE=0.00\n",
    "\n",
    "atnum = atoms.get_atomic_numbers()\n",
    "#print(atnum)\n",
    "qm_idx = np.arange(len(atoms))\n",
    "qm_idx = qm_idx[atnum != 6]\n",
    "charge_idx=range(144)\n",
    "charge_values = np.zeros_like(charge_idx, dtype=\"float\")\n",
    "charge_values[:72] = CHARGE_VALUE\n",
    "charge_values[72:] = -CHARGE_VALUE\n",
    "\n",
    "pfp_plus_LR = SumCalculator([calculator, lammpsLR], ignore_not_implemented=True)\n",
    "\n",
    "atoms.set_calculator( SimpleQMMM_charge(qm_idx,\n",
    "                    pfp_plus_LR,\n",
    "                    lammps1,\n",
    "                    lammps2,\n",
    "                    charge_idx,\n",
    "                    charge_values,\n",
    "                    vacuum=None,  # if None, QM cell = MM cell\n",
    "                    ) )\n",
    "\n",
    "print(atoms.get_potential_energy())\n",
    "np.savetxt(\"force_ewald_check.txt\",atoms.get_forces())"
   ]
  },
  {
   "cell_type": "code",
   "execution_count": 4,
   "id": "91ac071d-20b2-495e-8bfc-040d38606e60",
   "metadata": {},
   "outputs": [
    {
     "name": "stdout",
     "output_type": "stream",
     "text": [
      "1128\n",
      "-5747.135779319401\n"
     ]
    },
    {
     "data": {
      "application/vnd.jupyter.widget-view+json": {
       "model_id": "02ae757a439647dfa293b224c67582d3",
       "version_major": 2,
       "version_minor": 0
      },
      "text/plain": []
     },
     "metadata": {},
     "output_type": "display_data"
    },
    {
     "data": {
      "application/vnd.jupyter.widget-view+json": {
       "model_id": "f0d37de2231542048a199135a59737c1",
       "version_major": 2,
       "version_minor": 0
      },
      "text/plain": [
       "HBox(children=(NGLWidget(), VBox(children=(Dropdown(description='Show', options=('All', 'C', 'H', 'O'), value=…"
      ]
     },
     "metadata": {},
     "output_type": "display_data"
    }
   ],
   "source": [
    "posz = atoms.get_positions()[:,2]\n",
    "Natoms=posz.shape[0]\n",
    "print(Natoms)\n",
    "mask0 = np.arange(Natoms)\n",
    "mask = ( mask0 >= 984 )\n",
    "#print(mask, np.sum(mask), 3*16)\n",
    "constraint = FixAtoms(mask=mask)\n",
    "atoms.set_constraint(constraint) # set constraint\n",
    "\n",
    "atoms.wrap()\n",
    "\n",
    "cell0 = atoms.get_cell()\n",
    "\n",
    "atoms = read(\"NVT_charge_init.traj\")\n",
    "atoms.set_calculator( SimpleQMMM_charge(qm_idx,\n",
    "                    pfp_plus_LR,\n",
    "                    lammps1,\n",
    "                    lammps2,\n",
    "                    charge_idx,\n",
    "                    charge_values,\n",
    "                    vacuum=None,  # if None, QM cell = MM cell\n",
    "                    ) )\n",
    "print(atoms.get_potential_energy())\n",
    "vis(atoms)"
   ]
  },
  {
   "cell_type": "code",
   "execution_count": 5,
   "id": "2f450cbe-937f-43e0-8290-8abcf2e6bbe4",
   "metadata": {},
   "outputs": [
    {
     "name": "stdout",
     "output_type": "stream",
     "text": [
      "NVT Simulation\n",
      "step etotal T e_pot stress\n",
      "500 -5688.926697 385.777641 -5737.994448 23890225.234785 583.234 51.8139\r"
     ]
    }
   ],
   "source": [
    "#from ase.md.npt import NPT\n",
    "from ase.md import Langevin\n",
    "import time\n",
    "time_sta = time.perf_counter()\n",
    "time_pre = time_sta\n",
    "\n",
    "#lmp = lammps()\n",
    "\n",
    "OUT_traj = \"NVT_charge.traj\"\n",
    "OUT_log = \"NVT_charge.log\"\n",
    "\n",
    "T = 350.0\n",
    "#P = 100000*Pascal\n",
    "dt = 1.0*fs\n",
    "\n",
    "#tdamp = 100*dt\n",
    "#pdamp = pdamp = 0.6*(75*fs)**2.0 \n",
    "\n",
    "\n",
    "MaxwellBoltzmannDistribution(atoms, temperature_K = T)\n",
    "Stationary(atoms)\n",
    "atoms.get_temperature()\n",
    "\n",
    "#dyn = NPT(atoms, dt, temperature_K = T, externalstress = P, ttime = tdamp, pfactor = pdamp,  trajectory = OUT_traj, mask=[[1,0,0],[0,1,0],[0,0,1]], loginterval=100)\n",
    "\n",
    "dyn = Langevin(atoms=atoms, timestep=dt, \n",
    "               temperature_K = T, friction=0.01, trajectory = OUT_traj, loginterval=100)\n",
    "\n",
    "\n",
    "Header= \"step etotal T e_pot stress\"\n",
    "print(\"NVT Simulation\")\n",
    "print(Header)\n",
    "\n",
    "weight = np.sum(atoms.get_masses())*1.673e-27\n",
    "\n",
    "file = open(OUT_log, \"w\")\n",
    "file.write(Header + \"\\n\")\n",
    "def print_dyn():\n",
    "    global time_pre\n",
    "    #V = atoms.get_volume()*1E-30 # in m^3\n",
    "    #density = weight/V\n",
    "    time_now = time.perf_counter()\n",
    "    line = f\"{dyn.get_number_of_steps(): >3} {atoms.get_total_energy():.6f} {atoms.get_temperature():.6f} {atoms.get_potential_energy():.6f} {-atoms.get_stress(include_ideal_gas=True)[0:3].sum()/(3.0*Pascal):.6f} {time_now-time_sta:.3f} {time_now-time_pre:.3f}\"\n",
    "    #line = f\"{dyn.get_number_of_steps(): >3} {atoms.get_total_energy():.6f} {atoms.get_temperature():.6f} {atoms.get_potential_energy():.6f} {-atoms.get_stress(include_ideal_gas=True)[0:3].sum()/(3.0*Pascal):.6f} {V:8.6e} {density:8.6e}\"\n",
    "    time_pre = time_now\n",
    "    file.write(line+\"\\n\")\n",
    "    print(line, end = \"\\r\")\n",
    "    \n",
    "    \n",
    "dyn.attach(print_dyn, interval=50)\n",
    "\n",
    "#steps = 1000000\n",
    "steps = 500\n",
    "dyn.run(steps)\n",
    "\n",
    "file.close()"
   ]
  },
  {
   "cell_type": "code",
   "execution_count": 6,
   "id": "57b73f77-69a4-4d54-984d-bd074463bdda",
   "metadata": {},
   "outputs": [],
   "source": [
    "# test visualization\n",
    "\n",
    "from ase.io import read,write\n",
    "\n",
    "OUT_traj = \"NVT_charge.traj\"\n",
    "test_traj = read(OUT_traj, index=\":\")\n",
    "#test_traj = read(OUT_traj, index=\":\")\n",
    "out_xyz = \"NVT_charge.xyz\"\n",
    "\n",
    "for iframe, atoms in enumerate(test_traj):\n",
    "    \n",
    "    if iframe ==0:\n",
    "        atoms.wrap()\n",
    "        write(out_xyz, atoms)\n",
    "    else:\n",
    "        write(out_xyz, atoms, append=True)        "
   ]
  },
  {
   "cell_type": "code",
   "execution_count": null,
   "id": "b6c1fcff-de19-4ddd-b511-7a374a9f367c",
   "metadata": {},
   "outputs": [],
   "source": []
  }
 ],
 "metadata": {
  "kernelspec": {
   "display_name": "Python 3.8",
   "language": "python",
   "name": "python38"
  },
  "language_info": {
   "codemirror_mode": {
    "name": "ipython",
    "version": 3
   },
   "file_extension": ".py",
   "mimetype": "text/x-python",
   "name": "python",
   "nbconvert_exporter": "python",
   "pygments_lexer": "ipython3",
   "version": "3.8.13"
  }
 },
 "nbformat": 4,
 "nbformat_minor": 5
}
